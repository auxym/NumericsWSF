{
 "cells": [
  {
   "cell_type": "markdown",
   "metadata": {},
   "source": [
    "# Test data generation for NumericsWSF\n",
    "\n",
    "Requirements:\n",
    "\n",
    "* Python >= 3.3\n",
    "* N\n",
    "* Scipy >= 0.18.0"
   ]
  },
  {
   "cell_type": "code",
   "execution_count": 2,
   "metadata": {
    "collapsed": false
   },
   "outputs": [
    {
     "name": "stdout",
     "output_type": "stream",
     "text": [
      "Scipy 0.19.1\n",
      "Numpy 1.13.1\n"
     ]
    }
   ],
   "source": [
    "import scipy\n",
    "import scipy.interpolate\n",
    "\n",
    "import numpy as np\n",
    "\n",
    "print('Scipy %s' % scipy.__version__)\n",
    "print('Numpy %s' % np.__version__)"
   ]
  },
  {
   "cell_type": "markdown",
   "metadata": {},
   "source": [
    "## Interpolation"
   ]
  },
  {
   "cell_type": "code",
   "execution_count": 10,
   "metadata": {
    "collapsed": false
   },
   "outputs": [],
   "source": [
    "x1 = np.arange(1,10,1, dtype=np.float)\n",
    "y1 = np.sin(x1)/x1\n",
    "x2 = np.array([4, 3.14159, 8.56, 1.0, 9.0, 0.0, 9.00000001])"
   ]
  },
  {
   "cell_type": "code",
   "execution_count": 13,
   "metadata": {
    "collapsed": false
   },
   "outputs": [
    {
     "name": "stdout",
     "output_type": "stream",
     "text": [
      "-0.189200623826982\n",
      "0.013590692378561\n",
      "0.080057631534884\n",
      "0.841470984807897\n",
      "0.045790942804640\n",
      "1.228293256202952\n",
      "0.045790942025851\n"
     ]
    }
   ],
   "source": [
    "interplin = scipy.interpolate.interp1d(x1, y1, kind='linear', fill_value='extrapolate')\n",
    "lin_result = interplin(x2)\n",
    "print('\\n'.join(['%.15f' % n for n in lin_result]))"
   ]
  },
  {
   "cell_type": "code",
   "execution_count": 12,
   "metadata": {
    "collapsed": false
   },
   "outputs": [
    {
     "name": "stdout",
     "output_type": "stream",
     "text": [
      "-0.189200623826982\n",
      "-0.000402929605014\n",
      "0.087690201405916\n",
      "0.841470984807897\n",
      "0.045790942804640\n",
      "1.228293256202952\n",
      "0.045790941810738\n"
     ]
    }
   ],
   "source": [
    "interpcubic = scipy.interpolate.CubicSpline(x1, y1, bc_type='natural')\n",
    "cubic_result = interpcubic(x2)\n",
    "print('\\n'.join(['%.15f' % n for n in cubic_result]))"
   ]
  },
  {
   "cell_type": "code",
   "execution_count": null,
   "metadata": {
    "collapsed": true
   },
   "outputs": [],
   "source": []
  }
 ],
 "metadata": {
  "kernelspec": {
   "display_name": "Python 3",
   "language": "python",
   "name": "python3"
  },
  "language_info": {
   "codemirror_mode": {
    "name": "ipython",
    "version": 3
   },
   "file_extension": ".py",
   "mimetype": "text/x-python",
   "name": "python",
   "nbconvert_exporter": "python",
   "pygments_lexer": "ipython3",
   "version": "3.5.4"
  }
 },
 "nbformat": 4,
 "nbformat_minor": 0
}
